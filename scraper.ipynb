{
 "cells": [
  {
   "cell_type": "code",
   "execution_count": 138,
   "metadata": {},
   "outputs": [],
   "source": [
    "import os\n",
    "import time\n",
    "import numpy as np\n",
    "import pandas as pd\n",
    "import json\n",
    "from bs4 import BeautifulSoup\n",
    "from selenium import webdriver\n",
    "from selenium.webdriver.common.by import By\n",
    "from selenium.webdriver.chrome.service import Service\n",
    "from webdriver_manager.chrome import ChromeDriverManager"
   ]
  },
  {
   "cell_type": "code",
   "execution_count": 2,
   "metadata": {},
   "outputs": [
    {
     "name": "stderr",
     "output_type": "stream",
     "text": [
      "[WDM] - Downloading: 100%|██████████| 6.30M/6.30M [00:02<00:00, 3.30MB/s]\n"
     ]
    }
   ],
   "source": [
    "chrome_options = webdriver.ChromeOptions()\n",
    "chrome_options.binary_location = \"C:/Program Files/BraveSoftware/Brave-Browser/Application/brave.exe\"  # optional, if you don't have chrome\n",
    "os.environ[\"WDM_LOG\"] = \"False\"\n",
    "webdriver_service = Service(ChromeDriverManager().install())"
   ]
  },
  {
   "cell_type": "code",
   "execution_count": 28,
   "metadata": {},
   "outputs": [],
   "source": [
    "driver = webdriver.Chrome(service=webdriver_service, options=chrome_options)"
   ]
  },
  {
   "cell_type": "code",
   "execution_count": 135,
   "metadata": {},
   "outputs": [],
   "source": [
    "driver = webdriver.Chrome(service=webdriver_service, options=chrome_options)\n",
    "base = \"https://www.levels.fyi/t/software-engineer?countryId=113&country=113&yoeChoice=junior&limit=50\"\n",
    "query_company = \"Google\"\n",
    "data = {\"Company\": [], \"Salary\": []}\n",
    "num_pages = 20"
   ]
  },
  {
   "cell_type": "code",
   "execution_count": 136,
   "metadata": {},
   "outputs": [],
   "source": [
    "# For a query/Particular Company\n",
    "\n",
    "for i in range(num_pages):\n",
    "    link = base + f\"&offset={i*50}\"\n",
    "    driver.get(link)\n",
    "    time.sleep(3)\n",
    "    if i == 0:\n",
    "        time.sleep(1)\n",
    "        try:\n",
    "            element = driver.find_element(by=By.CLASS_NAME, value=\"css-um5318\").click()\n",
    "            time.sleep(2)\n",
    "            element = driver.find_element(by=By.CLASS_NAME, value=\"css-g9gvkf\").click()\n",
    "        except:\n",
    "            print(\"Already Full view\")\n",
    "    source = driver.page_source\n",
    "    content = BeautifulSoup(source, \"lxml\")\n",
    "    tr = content.find_all(\"tr\", attrs={\"class\": \"css-140sacz\"})\n",
    "    for i, row in enumerate(tr):\n",
    "        td = row.find_all(\"td\")\n",
    "        if (\n",
    "            len(td) == 4\n",
    "            and \"submissions-table-promo_promoContainer__TGTbg\" not in row[\"class\"]\n",
    "        ):\n",
    "            company = td[0].find(\"a\", attrs={\"class\": \"css-a84nbj\"})\n",
    "            if company is None:\n",
    "                company = td[0].find(\"p\", attrs={\"class\": \"css-1vlqnwv\"})\n",
    "            if company and company.text == query_company:\n",
    "                data[\"Company\"].append(company.text)\n",
    "                salary_text = td[3].find(\"p\", attrs={\"class\": \"css-1voc5jt\"}).text\n",
    "                salary_int = int(salary_text.replace(\",\", \"\")[1:])\n",
    "                data[\"Salary\"].append(salary_int)"
   ]
  },
  {
   "cell_type": "code",
   "execution_count": 147,
   "metadata": {},
   "outputs": [
    {
     "data": {
      "text/plain": [
       "3100000.0"
      ]
     },
     "execution_count": 147,
     "metadata": {},
     "output_type": "execute_result"
    }
   ],
   "source": [
    "median_salary = np.median(data[\"Salary\"])"
   ]
  },
  {
   "cell_type": "code",
   "execution_count": 161,
   "metadata": {},
   "outputs": [
    {
     "name": "stdout",
     "output_type": "stream",
     "text": [
      "{'Google': 3100000.0}\n"
     ]
    }
   ],
   "source": [
    "df = pd.DataFrame(data)\n",
    "output = dict(df.groupby(\"Company\")[\"Salary\"].median())\n",
    "print(output)"
   ]
  },
  {
   "cell_type": "code",
   "execution_count": 162,
   "metadata": {},
   "outputs": [],
   "source": [
    "out_query = json.dumps(output)\n",
    "\n",
    "# Either json output or json file\n",
    "\n",
    "with open(\"out_query.json\", \"w\") as f:\n",
    "    json.dump(output, f)"
   ]
  },
  {
   "cell_type": "code",
   "execution_count": null,
   "metadata": {},
   "outputs": [],
   "source": [
    "# For Full Scraping but later can be filtered according to company name.\n",
    "\n",
    "for i in range(num_pages):\n",
    "    link = base + f\"&offset={i*50}\"\n",
    "    driver.get(link)\n",
    "    time.sleep(3)\n",
    "    if i == 0:\n",
    "        time.sleep(1)\n",
    "        try:\n",
    "            element = driver.find_element(by=By.CLASS_NAME, value=\"css-um5318\").click()\n",
    "            time.sleep(2)\n",
    "            element = driver.find_element(by=By.CLASS_NAME, value=\"css-g9gvkf\").click()\n",
    "        except:\n",
    "            print(\"Already Full view\")\n",
    "    source = driver.page_source\n",
    "    content = BeautifulSoup(source, \"lxml\")\n",
    "    tr = content.find_all(\"tr\", attrs={\"class\": \"css-140sacz\"})\n",
    "    for i, row in enumerate(tr):\n",
    "        td = row.find_all(\"td\")\n",
    "        if (\n",
    "            len(td) == 4\n",
    "            and \"submissions-table-promo_promoContainer__TGTbg\" not in row[\"class\"]\n",
    "        ):\n",
    "            company = td[0].find(\"a\", attrs={\"class\": \"css-a84nbj\"})\n",
    "            if company is None:\n",
    "                company = td[0].find(\"p\", attrs={\"class\": \"css-1vlqnwv\"})\n",
    "            if company:\n",
    "                data[\"Company\"].append(company.text)\n",
    "                salary_text = td[3].find(\"p\", attrs={\"class\": \"css-1voc5jt\"}).text\n",
    "                salary_int = int(salary_text.replace(\",\", \"\")[1:])\n",
    "                data[\"Salary\"].append(salary_int)"
   ]
  },
  {
   "cell_type": "code",
   "execution_count": 157,
   "metadata": {},
   "outputs": [],
   "source": [
    "df = pd.DataFrame(data)"
   ]
  },
  {
   "cell_type": "code",
   "execution_count": 159,
   "metadata": {},
   "outputs": [],
   "source": [
    "df.to_json(\"full_data.json\")\n",
    "df.to_csv(\"full_data.csv\", index=False)"
   ]
  },
  {
   "cell_type": "code",
   "execution_count": 160,
   "metadata": {},
   "outputs": [
    {
     "name": "stdout",
     "output_type": "stream",
     "text": [
      "{'AAMP Global': 124000.0, 'ABC': 1680800.0, 'ACL digital': 300000.0, 'ADP': 600000.0, 'ANZ': 2368000.0, 'ATSG': 610000.0, 'Aakash Educationa...': 360000.0, 'Ab': 1435310.0, 'Accenture': 450000.0, 'Accolite Digital': 800000.0, 'Acquia': 800000.0, 'Adecco': 700000.0, 'Adobe': 2095000.0, 'Advantage club': 1200000.0, 'AirAsia': 900000.0, 'Airbnb': 3052265.0, 'Airtel India': 1537500.0, 'Almabetter': 2000000.0, 'AlphaGrep Securities': 9266175.0, 'Altair': 350000.0, 'Altimetrik': 700008.0, 'Amadeus': 1165000.0, 'Amantya Technologies': 492000.0, 'Amazon': 2600000.0, 'Amdocs': 800000.0, 'American Express': 1275000.0, 'Analog Devices': 1128353.0, 'Angel One': 2118600.0, 'Anthology': 800000.0, 'AppIncubator': 300000.0, 'Apple': 2750000.0, 'Aptiv': 800000.0, 'Arcadis': 600000.0, 'Arcon': 700000.0, 'Arista Networks': 2750000.0, 'Arm': 1871919.0, 'Atlassian': 3956603.0, 'Atoll Solutions': 420000.0, 'Atos': 350000.0, 'BNY Mellon': 1569843.0, \"BYJU'S\": 1300000.0, 'Bajaj Finserv': 1000000.0, 'Bandhoo': 700000.0, 'Barclays': 1800000.0, 'Beehyv Software S...': 700000.0, 'Bentley Systems': 821000.0, 'Billdesk': 850000.0, 'Birdeye': 850000.0, 'Biunekkl': 3294640.0, 'Blackhawk Network': 1000000.0, 'Blinkit': 2100000.0, 'Bloomreach': 2500000.0, 'BlueStone': 2887500.0, 'BlueTech': 239626.0, 'Bosch Global Soft...': 540000.0, 'Briefly': 500000.0, 'Bright Money': 1300000.0, 'C2FO': 2075000.0, 'CRED': 2650000.0, 'CS Infocomm': 150000.0, 'CTS': 247098.0, 'Cadence Design Sy...': 1450000.0, 'CampK12': 144000.0, 'Canalys': 850000.0, 'Canonical': 3400000.0, 'Capgemini': 411830.0, 'Capital One': 3447500.0, 'Cashfree': 1500000.0, 'Celebal': 605000.0, 'CercleX': 523000.0, 'Chai Sutta Bar': 490977.0, 'Ciena': 1240000.0, 'Cimpress': 1200000.0, 'Cisco': 1425000.0, 'Citi': 1825000.0, 'CivicDataLab': 1160000.0, 'ClaySys Technologies': 260000.0, 'CloudSense': 823660.0, 'Cognizant': 400000.0, 'Cogoport': 1400000.0, 'Cohesity': 5800000.0, 'ColorTokens': 870000.0, 'Comcast': 815000.0, 'Commvault': 2375000.0, 'Compass': 6000000.0, 'Continental': 769830.0, 'Couchbase': 2375000.0, 'Credit Suisse': 1342500.0, 'Crop Systems': 7001110.0, 'Crowe': 258000.0, 'Csuite ERP': 380000.0, 'DCKAP': 400000.0, 'DTDL': 700000.0, 'Danaher': 300000.0, 'Dassault Systèmes': 750000.0, 'Delixus Software': 800000.0, 'Dell Technologies': 1350000.0, 'Deloitte': 700000.0, 'Dentsu': 750000.0, 'DevRev': 2750000.0, 'Docunexus': 600000.0, 'Dream11': 2600000.0, 'Dremio': 2400000.0, 'Droame': 1000000.0, 'EMK Solutions': 450000.0, 'ENQUIRO': 450000.0, 'EPAM Systems': 1206026.0, 'Easyrewardz Softw...': 600000.0, 'Edgeverve Systems...': 1700000.0, 'Eltropy': 2400000.0, 'Enjay IT Solutions': 180000.0, 'Envestnet': 700000.0, 'Ericsson': 710000.0, 'Ernst and Young': 493000.0, 'Eurofins': 800000.0, 'Exabeam': 480000.0, 'Extreme Networks': 1140000.0, 'F5 Networks': 1500000.0, 'FAPL': 522000.0, 'FactSet': 1049000.0, 'Fareportal': 990000.0, 'Figit': 1800000.0, 'Finarya Tech': 200000.0, 'Finastra': 700000.0, 'Fiserv': 873080.0, 'Flipkart': 2350000.0, 'FogHorn': 2400000.0, 'Ford Motor': 570000.0, 'Freshworks': 750000.0, 'Freston Analytics': 480000.0, 'Funding Societies': 600000.0, 'GE': 1183600.0, 'GE Digital': 1561750.0, 'GEP Worldwide': 1500000.0, 'Gainsight': 1200000.0, 'Games24x7': 2000000.0, 'Gateway': 700000.0, 'GeekyAnts': 600000.0, 'Gemini Solutions': 1743925.0, 'Genesys': 950000.0, 'Genpact': 1092500.0, 'Giesecke+Devrient': 450000.0, 'GlobalLogic': 550000.0, 'GlobalStep': 162000.0, 'GlobalVox': 750000.0, 'Goldman Sachs': 2167500.0, 'Google': 3100000.0, 'Graviton Research...': 9883920.0, 'Groove Technology...': 120000.0, 'Groupon': 2025000.0, 'HARMAN International': 550000.0, 'HCL Technologies': 280000.0, 'HDFC Life': 1300000.0, 'HPE': 1550000.0, 'HQL': 5696620.0, 'HackerRank': 1950000.0, 'Harness': 2310000.0, 'HashedIn': 821000.0, 'Headout': 2600000.0, 'Health Ledger Dia...': 240000.0, 'Health Net Global': 660000.0, 'HealthEdge': 1350000.0, 'Hexaview Technolo...': 700000.0, 'Hexaware Technolo...': 906026.0, 'HiLabs': 2550000.0, 'Hitachi': 660000.0, 'Honeywell': 750000.0, 'Hotstar': 3000000.0, 'Huawei': 500000.0, 'IBM': 510000.0, 'IBS Software': 500000.0, 'IDFC FIRST Bank': 750000.0, 'IDrive': 1300000.0, 'ITC Infotech': 1212500.0, 'Icertis': 700000.0, 'Ideaforge': 2600000.0, 'Ideas2it': 237600.0, 'InTrade': 2300000.0, 'Incapsulate': 2565871.0, 'Incedo': 600000.0, 'Increff': 1275000.0, 'IndiaMART': 850000.0, 'Indigine': 450000.0, 'Infineon Technolo...': 480000.0, 'Infoaxon': 231456.0, 'Infor': 202500.0, 'Informatica': 950000.0, 'Infosys': 361000.0, 'Ingreen': 194000.0, 'Innoplexus': 975000.0, 'Innoraft': 480000.0, 'Innova Solutions': 530000.0, 'Intel': 1497000.0, 'Interview Kickstart': 660000.0, 'Intuit': 2822600.0, 'JBIET': 82366.0, 'JLL': 5230000.0, 'JPMorgan Chase': 1478125.0, 'Jio': 1400000.0, 'Johnson Controls': 1000000.0, 'Jumbotail Technology': 420000.0, 'Juniper Networks': 1379000.0, 'KPIT': 450000.0, 'Kinara.ai': 1100000.0, 'Klearnow': 1450000.0, 'LSEG': 650000.0, 'LTI': 180000.0, 'LTIMindtree': 400000.0, 'Lakshya Digital': 300000.0, 'Lenovo': 400000.0, 'LetsEndorse': 108000.0, 'LifeWorks': 550000.0, 'LinkedIn': 2500000.0, 'M2P': 1300000.0, 'MAQ Software': 600000.0, 'MIT': 102958.0, 'Maersk': 922500.0, 'MakeMyTrip': 600000.0, 'MathWorks': 2059150.0, 'Media.net': 2362500.0, 'Mentor Graphics': 1300000.0, 'Mercedes-Benz': 800000.0, 'MiQ': 1198875.0, 'Micro Focus': 1276673.0, 'Microsoft': 2470980.0, 'Milestone': 700000.0, 'Mindruby Technology': 360000.0, 'Mindtree': 336000.0, 'Morgan Stanley': 2007900.0, 'Movate': 358292.0, 'Mphasis': 400000.0, 'Myntra': 2850000.0, 'NCR': 1500000.0, 'NITM': 650000.0, 'NTT DATA': 431192.0, 'Nagarro': 450000.0, 'Naspers': 2585224.0, 'NatWest Group': 1200000.0, 'National Australi...': 1737500.0, 'Navi': 3250000.0, 'NetApp': 2452000.0, 'NielsenIQ': 1000000.0, 'Nutanix': 2837500.0, 'Nvidia': 3800000.0, 'OYO': 1500000.0, 'Observe.AI': 2055000.0, 'OceanFrogs': 480000.0, 'OfBusiness': 1775000.0, 'Ola': 1800000.0, 'Omnibiz': 800000.0, 'OpenText': 900000.0, 'Optum': 1164125.0, 'Oracle': 1877056.5, 'PayPal': 2316931.0, 'Paysafe': 1500000.0, 'Paytm': 1322167.0, 'Paytm Payments Bank': 1200000.0, 'PepsiCo': 1300000.0, 'Perfios Software ...': 950000.0, 'Persistent Systems': 485500.0, 'Pesu Venture Labs': 1647320.0, 'Phenom': 1035000.0, 'PhonePe': 2262500.0, 'PierianDx': 850000.0, 'Pine Labs': 1200000.0, 'Porter': 1700000.0, 'ProShort': 300000.0, 'Publicis Sapient': 1337500.0, 'PwC': 800000.0, 'QBurst': 419400.0, 'Qualcomm': 2167000.0, 'Quantiphi': 50000.0, 'Quest Infosoft': 160000.0, 'Quest Software': 400000.0, 'Quinbay': 1300000.0, 'RA': 420000.0, 'RBL Bank': 950000.0, 'RSA Security': 895070.0, 'Radisys': 1200000.0, 'Razorpay': 2287500.0, 'Riggle': 500000.0, 'Rooter Sports Tec...': 1000000.0, 'Rubrik': 5716250.0, 'SAP': 1204167.0, 'SSIR': 1600000.0, 'Saas Labs': 2040000.0, 'Sabre': 1250000.0, 'SailPoint': 713000.0, 'SalesboxAI': 500000.0, 'Salesforce': 2002500.0, 'Samsung': 1673660.0, 'Sarv': 480000.0, 'Securonix': 1000000.0, 'SentinelOne': 1850000.0, 'ServiceNow': 2302275.0, 'ShareChat': 3102500.0, 'Shell': 1500000.0, 'Sheru': 1150000.0, 'ShopUp': 1200000.0, 'Siemens': 1400000.0, 'Simpl': 3000000.0, 'SinglePoint Solut...': 150000.0, 'Skit.ai': 1200000.0, 'Smarsh': 1300000.0, 'Societe Generale': 1366375.0, 'Sopra Steria': 700000.0, 'Sprinklr': 3000000.0, 'Sprint Technology': 360000.0, 'Squarepoint Capital': 4125000.0, 'State Street': 800000.0, 'Strand Life Sciences': 1000000.0, 'Striim': 1200000.0, 'Subdito': 500000.0, 'SupportGenie': 144000.0, 'Svam International': 400000.0, 'Symentix': 180000.0, 'Synopsys': 1580000.0, 'Tata Consultancy ...': 377500.0, 'Tata Digital': 1100000.0, 'Tata Steel': 624000.0, 'Tata-Aig': 1950000.0, 'Tech Mahindra': 500000.0, 'TechMojo': 3500000.0, 'Tekion': 1501250.0, 'Telstra': 750000.0, 'Temenos': 304000.0, 'Teradata': 1155000.0, 'Testlio': 120000.0, 'Testmasters': 300000.0, 'Texas Instruments': 2353750.0, 'The D. E. Shaw Group': 2920000.0, 'ThoughtSpot': 2531235.0, 'ThoughtWorks': 1250000.0, 'TietoEVRY': 485000.0, 'Toddle': 1200000.0, 'Tower Research Ca...': 5125000.0, 'TransUnion': 800000.0, 'Trianz': 420000.0, 'Tricon Infotech': 550000.0, 'Trilogy': 3650000.0, 'Trinesis Technology': 308000.0, 'Trinkerr': 1300000.0, 'True Sparrow': 2400000.0, 'Twitter': 2450000.0, 'Uber': 3104191.5, 'Udaan': 4061888.5, 'Unacademy': 1675000.0, 'Unifize': 1200000.0, 'Urban Company': 2200000.0, 'Urban Ladder': 1587500.0, 'V-Align': 440411.0, 'VMware': 1775000.0, 'Valiant Communica...': 450000.0, 'Valtech': 543000.0, 'Varahe Analytics ...': 900000.0, 'Vasundhara Infotech': 204000.0, 'Verizon': 752000.0, 'Viasat': 1087500.0, 'Virtusa': 550000.0, 'Visa': 2285000.0, 'Visteon': 688000.0, 'Vois': 500000.0, 'Walmart Global Tech': 2014000.0, 'We Create Problems': 800000.0, 'WeRize': 1400000.0, 'Wells Fargo': 2050000.0, 'Western Digital': 1475000.0, 'Whatfix': 1400000.0, 'Wiley': 800000.0, 'Wingify': 1049800.0, 'Wipro': 350000.0, 'Wissen Technology': 800000.0, 'Xoriant': 800000.0, 'YASH Technologies': 381000.0, 'YCC': 880040.0, 'Zenefits': 2100000.0, 'Zesty Beanz Techn...': 156000.0, 'Zeta': 2002000.0, 'Zetatek Technologies': 240000.0, 'Zinnov': 150000.0, 'Zoho': 720000.0, 'Zomato': 2500000.0, 'Zoom': 2863825.0, 'Zuora': 1558000.0, 'deepedge.ai': 800000.0, 'e-Zest': 350000.0, 'eQ Technologic': 1430000.0, 'eQ technologic': 1300000.0, 'iFuture Globistic': 250000.0, 'iLink Digital': 455000.0, 'nference': 1731250.0}\n"
     ]
    }
   ],
   "source": [
    "output = dict(df.groupby(\"Company\")[\"Salary\"].median())\n",
    "print(output)"
   ]
  },
  {
   "cell_type": "code",
   "execution_count": 155,
   "metadata": {},
   "outputs": [],
   "source": [
    "output_json = json.dumps(output)\n",
    "\n",
    "# Either json output or json file\n",
    "\n",
    "with open(\"output.json\", \"w\") as f:\n",
    "    json.dump(output, f)"
   ]
  },
  {
   "cell_type": "code",
   "execution_count": 154,
   "metadata": {},
   "outputs": [
    {
     "data": {
      "text/plain": [
       "'{\"AAMP Global\": 124000.0, \"ABC\": 1680800.0, \"ACL digital\": 300000.0, \"ADP\": 600000.0, \"ANZ\": 2368000.0, \"ATSG\": 610000.0, \"Aakash Educationa...\": 360000.0, \"Ab\": 1435310.0, \"Accenture\": 450000.0, \"Accolite Digital\": 800000.0, \"Acquia\": 800000.0, \"Adecco\": 700000.0, \"Adobe\": 2095000.0, \"Advantage club\": 1200000.0, \"AirAsia\": 900000.0, \"Airbnb\": 3052265.0, \"Airtel India\": 1537500.0, \"Almabetter\": 2000000.0, \"AlphaGrep Securities\": 9266175.0, \"Altair\": 350000.0, \"Altimetrik\": 700008.0, \"Amadeus\": 1165000.0, \"Amantya Technologies\": 492000.0, \"Amazon\": 2600000.0, \"Amdocs\": 800000.0, \"American Express\": 1275000.0, \"Analog Devices\": 1128353.0, \"Angel One\": 2118600.0, \"Anthology\": 800000.0, \"AppIncubator\": 300000.0, \"Apple\": 2750000.0, \"Aptiv\": 800000.0, \"Arcadis\": 600000.0, \"Arcon\": 700000.0, \"Arista Networks\": 2750000.0, \"Arm\": 1871919.0, \"Atlassian\": 3956603.0, \"Atoll Solutions\": 420000.0, \"Atos\": 350000.0, \"BNY Mellon\": 1569843.0, \"BYJU\\'S\": 1300000.0, \"Bajaj Finserv\": 1000000.0, \"Bandhoo\": 700000.0, \"Barclays\": 1800000.0, \"Beehyv Software S...\": 700000.0, \"Bentley Systems\": 821000.0, \"Billdesk\": 850000.0, \"Birdeye\": 850000.0, \"Biunekkl\": 3294640.0, \"Blackhawk Network\": 1000000.0, \"Blinkit\": 2100000.0, \"Bloomreach\": 2500000.0, \"BlueStone\": 2887500.0, \"BlueTech\": 239626.0, \"Bosch Global Soft...\": 540000.0, \"Briefly\": 500000.0, \"Bright Money\": 1300000.0, \"C2FO\": 2075000.0, \"CRED\": 2650000.0, \"CS Infocomm\": 150000.0, \"CTS\": 247098.0, \"Cadence Design Sy...\": 1450000.0, \"CampK12\": 144000.0, \"Canalys\": 850000.0, \"Canonical\": 3400000.0, \"Capgemini\": 411830.0, \"Capital One\": 3447500.0, \"Cashfree\": 1500000.0, \"Celebal\": 605000.0, \"CercleX\": 523000.0, \"Chai Sutta Bar\": 490977.0, \"Ciena\": 1240000.0, \"Cimpress\": 1200000.0, \"Cisco\": 1425000.0, \"Citi\": 1825000.0, \"CivicDataLab\": 1160000.0, \"ClaySys Technologies\": 260000.0, \"CloudSense\": 823660.0, \"Cognizant\": 400000.0, \"Cogoport\": 1400000.0, \"Cohesity\": 5800000.0, \"ColorTokens\": 870000.0, \"Comcast\": 815000.0, \"Commvault\": 2375000.0, \"Compass\": 6000000.0, \"Continental\": 769830.0, \"Couchbase\": 2375000.0, \"Credit Suisse\": 1342500.0, \"Crop Systems\": 7001110.0, \"Crowe\": 258000.0, \"Csuite ERP\": 380000.0, \"DCKAP\": 400000.0, \"DTDL\": 700000.0, \"Danaher\": 300000.0, \"Dassault Syst\\\\u00e8mes\": 750000.0, \"Delixus Software\": 800000.0, \"Dell Technologies\": 1350000.0, \"Deloitte\": 700000.0, \"Dentsu\": 750000.0, \"DevRev\": 2750000.0, \"Docunexus\": 600000.0, \"Dream11\": 2600000.0, \"Dremio\": 2400000.0, \"Droame\": 1000000.0, \"EMK Solutions\": 450000.0, \"ENQUIRO\": 450000.0, \"EPAM Systems\": 1206026.0, \"Easyrewardz Softw...\": 600000.0, \"Edgeverve Systems...\": 1700000.0, \"Eltropy\": 2400000.0, \"Enjay IT Solutions\": 180000.0, \"Envestnet\": 700000.0, \"Ericsson\": 710000.0, \"Ernst and Young\": 493000.0, \"Eurofins\": 800000.0, \"Exabeam\": 480000.0, \"Extreme Networks\": 1140000.0, \"F5 Networks\": 1500000.0, \"FAPL\": 522000.0, \"FactSet\": 1049000.0, \"Fareportal\": 990000.0, \"Figit\": 1800000.0, \"Finarya Tech\": 200000.0, \"Finastra\": 700000.0, \"Fiserv\": 873080.0, \"Flipkart\": 2350000.0, \"FogHorn\": 2400000.0, \"Ford Motor\": 570000.0, \"Freshworks\": 750000.0, \"Freston Analytics\": 480000.0, \"Funding Societies\": 600000.0, \"GE\": 1183600.0, \"GE Digital\": 1561750.0, \"GEP Worldwide\": 1500000.0, \"Gainsight\": 1200000.0, \"Games24x7\": 2000000.0, \"Gateway\": 700000.0, \"GeekyAnts\": 600000.0, \"Gemini Solutions\": 1743925.0, \"Genesys\": 950000.0, \"Genpact\": 1092500.0, \"Giesecke+Devrient\": 450000.0, \"GlobalLogic\": 550000.0, \"GlobalStep\": 162000.0, \"GlobalVox\": 750000.0, \"Goldman Sachs\": 2167500.0, \"Google\": 3100000.0, \"Graviton Research...\": 9883920.0, \"Groove Technology...\": 120000.0, \"Groupon\": 2025000.0, \"HARMAN International\": 550000.0, \"HCL Technologies\": 280000.0, \"HDFC Life\": 1300000.0, \"HPE\": 1550000.0, \"HQL\": 5696620.0, \"HackerRank\": 1950000.0, \"Harness\": 2310000.0, \"HashedIn\": 821000.0, \"Headout\": 2600000.0, \"Health Ledger Dia...\": 240000.0, \"Health Net Global\": 660000.0, \"HealthEdge\": 1350000.0, \"Hexaview Technolo...\": 700000.0, \"Hexaware Technolo...\": 906026.0, \"HiLabs\": 2550000.0, \"Hitachi\": 660000.0, \"Honeywell\": 750000.0, \"Hotstar\": 3000000.0, \"Huawei\": 500000.0, \"IBM\": 510000.0, \"IBS Software\": 500000.0, \"IDFC FIRST Bank\": 750000.0, \"IDrive\": 1300000.0, \"ITC Infotech\": 1212500.0, \"Icertis\": 700000.0, \"Ideaforge\": 2600000.0, \"Ideas2it\": 237600.0, \"InTrade\": 2300000.0, \"Incapsulate\": 2565871.0, \"Incedo\": 600000.0, \"Increff\": 1275000.0, \"IndiaMART\": 850000.0, \"Indigine\": 450000.0, \"Infineon Technolo...\": 480000.0, \"Infoaxon\": 231456.0, \"Infor\": 202500.0, \"Informatica\": 950000.0, \"Infosys\": 361000.0, \"Ingreen\": 194000.0, \"Innoplexus\": 975000.0, \"Innoraft\": 480000.0, \"Innova Solutions\": 530000.0, \"Intel\": 1497000.0, \"Interview Kickstart\": 660000.0, \"Intuit\": 2822600.0, \"JBIET\": 82366.0, \"JLL\": 5230000.0, \"JPMorgan Chase\": 1478125.0, \"Jio\": 1400000.0, \"Johnson Controls\": 1000000.0, \"Jumbotail Technology\": 420000.0, \"Juniper Networks\": 1379000.0, \"KPIT\": 450000.0, \"Kinara.ai\": 1100000.0, \"Klearnow\": 1450000.0, \"LSEG\": 650000.0, \"LTI\": 180000.0, \"LTIMindtree\": 400000.0, \"Lakshya Digital\": 300000.0, \"Lenovo\": 400000.0, \"LetsEndorse\": 108000.0, \"LifeWorks\": 550000.0, \"LinkedIn\": 2500000.0, \"M2P\": 1300000.0, \"MAQ Software\": 600000.0, \"MIT\": 102958.0, \"Maersk\": 922500.0, \"MakeMyTrip\": 600000.0, \"MathWorks\": 2059150.0, \"Media.net\": 2362500.0, \"Mentor Graphics\": 1300000.0, \"Mercedes-Benz\": 800000.0, \"MiQ\": 1198875.0, \"Micro Focus\": 1276673.0, \"Microsoft\": 2470980.0, \"Milestone\": 700000.0, \"Mindruby Technology\": 360000.0, \"Mindtree\": 336000.0, \"Morgan Stanley\": 2007900.0, \"Movate\": 358292.0, \"Mphasis\": 400000.0, \"Myntra\": 2850000.0, \"NCR\": 1500000.0, \"NITM\": 650000.0, \"NTT DATA\": 431192.0, \"Nagarro\": 450000.0, \"Naspers\": 2585224.0, \"NatWest Group\": 1200000.0, \"National Australi...\": 1737500.0, \"Navi\": 3250000.0, \"NetApp\": 2452000.0, \"NielsenIQ\": 1000000.0, \"Nutanix\": 2837500.0, \"Nvidia\": 3800000.0, \"OYO\": 1500000.0, \"Observe.AI\": 2055000.0, \"OceanFrogs\": 480000.0, \"OfBusiness\": 1775000.0, \"Ola\": 1800000.0, \"Omnibiz\": 800000.0, \"OpenText\": 900000.0, \"Optum\": 1164125.0, \"Oracle\": 1877056.5, \"PayPal\": 2316931.0, \"Paysafe\": 1500000.0, \"Paytm\": 1322167.0, \"Paytm Payments Bank\": 1200000.0, \"PepsiCo\": 1300000.0, \"Perfios Software ...\": 950000.0, \"Persistent Systems\": 485500.0, \"Pesu Venture Labs\": 1647320.0, \"Phenom\": 1035000.0, \"PhonePe\": 2262500.0, \"PierianDx\": 850000.0, \"Pine Labs\": 1200000.0, \"Porter\": 1700000.0, \"ProShort\": 300000.0, \"Publicis Sapient\": 1337500.0, \"PwC\": 800000.0, \"QBurst\": 419400.0, \"Qualcomm\": 2167000.0, \"Quantiphi\": 50000.0, \"Quest Infosoft\": 160000.0, \"Quest Software\": 400000.0, \"Quinbay\": 1300000.0, \"RA\": 420000.0, \"RBL Bank\": 950000.0, \"RSA Security\": 895070.0, \"Radisys\": 1200000.0, \"Razorpay\": 2287500.0, \"Riggle\": 500000.0, \"Rooter Sports Tec...\": 1000000.0, \"Rubrik\": 5716250.0, \"SAP\": 1204167.0, \"SSIR\": 1600000.0, \"Saas Labs\": 2040000.0, \"Sabre\": 1250000.0, \"SailPoint\": 713000.0, \"SalesboxAI\": 500000.0, \"Salesforce\": 2002500.0, \"Samsung\": 1673660.0, \"Sarv\": 480000.0, \"Securonix\": 1000000.0, \"SentinelOne\": 1850000.0, \"ServiceNow\": 2302275.0, \"ShareChat\": 3102500.0, \"Shell\": 1500000.0, \"Sheru\": 1150000.0, \"ShopUp\": 1200000.0, \"Siemens\": 1400000.0, \"Simpl\": 3000000.0, \"SinglePoint Solut...\": 150000.0, \"Skit.ai\": 1200000.0, \"Smarsh\": 1300000.0, \"Societe Generale\": 1366375.0, \"Sopra Steria\": 700000.0, \"Sprinklr\": 3000000.0, \"Sprint Technology\": 360000.0, \"Squarepoint Capital\": 4125000.0, \"State Street\": 800000.0, \"Strand Life Sciences\": 1000000.0, \"Striim\": 1200000.0, \"Subdito\": 500000.0, \"SupportGenie\": 144000.0, \"Svam International\": 400000.0, \"Symentix\": 180000.0, \"Synopsys\": 1580000.0, \"Tata Consultancy ...\": 377500.0, \"Tata Digital\": 1100000.0, \"Tata Steel\": 624000.0, \"Tata-Aig\": 1950000.0, \"Tech Mahindra\": 500000.0, \"TechMojo\": 3500000.0, \"Tekion\": 1501250.0, \"Telstra\": 750000.0, \"Temenos\": 304000.0, \"Teradata\": 1155000.0, \"Testlio\": 120000.0, \"Testmasters\": 300000.0, \"Texas Instruments\": 2353750.0, \"The D. E. Shaw Group\": 2920000.0, \"ThoughtSpot\": 2531235.0, \"ThoughtWorks\": 1250000.0, \"TietoEVRY\": 485000.0, \"Toddle\": 1200000.0, \"Tower Research Ca...\": 5125000.0, \"TransUnion\": 800000.0, \"Trianz\": 420000.0, \"Tricon Infotech\": 550000.0, \"Trilogy\": 3650000.0, \"Trinesis Technology\": 308000.0, \"Trinkerr\": 1300000.0, \"True Sparrow\": 2400000.0, \"Twitter\": 2450000.0, \"Uber\": 3104191.5, \"Udaan\": 4061888.5, \"Unacademy\": 1675000.0, \"Unifize\": 1200000.0, \"Urban Company\": 2200000.0, \"Urban Ladder\": 1587500.0, \"V-Align\": 440411.0, \"VMware\": 1775000.0, \"Valiant Communica...\": 450000.0, \"Valtech\": 543000.0, \"Varahe Analytics ...\": 900000.0, \"Vasundhara Infotech\": 204000.0, \"Verizon\": 752000.0, \"Viasat\": 1087500.0, \"Virtusa\": 550000.0, \"Visa\": 2285000.0, \"Visteon\": 688000.0, \"Vois\": 500000.0, \"Walmart Global Tech\": 2014000.0, \"We Create Problems\": 800000.0, \"WeRize\": 1400000.0, \"Wells Fargo\": 2050000.0, \"Western Digital\": 1475000.0, \"Whatfix\": 1400000.0, \"Wiley\": 800000.0, \"Wingify\": 1049800.0, \"Wipro\": 350000.0, \"Wissen Technology\": 800000.0, \"Xoriant\": 800000.0, \"YASH Technologies\": 381000.0, \"YCC\": 880040.0, \"Zenefits\": 2100000.0, \"Zesty Beanz Techn...\": 156000.0, \"Zeta\": 2002000.0, \"Zetatek Technologies\": 240000.0, \"Zinnov\": 150000.0, \"Zoho\": 720000.0, \"Zomato\": 2500000.0, \"Zoom\": 2863825.0, \"Zuora\": 1558000.0, \"deepedge.ai\": 800000.0, \"e-Zest\": 350000.0, \"eQ Technologic\": 1430000.0, \"eQ technologic\": 1300000.0, \"iFuture Globistic\": 250000.0, \"iLink Digital\": 455000.0, \"nference\": 1731250.0}'"
      ]
     },
     "execution_count": 154,
     "metadata": {},
     "output_type": "execute_result"
    }
   ],
   "source": [
    "output_json"
   ]
  },
  {
   "cell_type": "code",
   "execution_count": null,
   "metadata": {},
   "outputs": [],
   "source": []
  }
 ],
 "metadata": {
  "kernelspec": {
   "display_name": "Python 3",
   "language": "python",
   "name": "python3"
  },
  "language_info": {
   "codemirror_mode": {
    "name": "ipython",
    "version": 3
   },
   "file_extension": ".py",
   "mimetype": "text/x-python",
   "name": "python",
   "nbconvert_exporter": "python",
   "pygments_lexer": "ipython3",
   "version": "3.10.6"
  },
  "orig_nbformat": 4
 },
 "nbformat": 4,
 "nbformat_minor": 2
}
